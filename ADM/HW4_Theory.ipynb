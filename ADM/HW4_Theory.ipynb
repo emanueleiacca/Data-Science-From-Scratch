{
 "cells": [
  {
   "cell_type": "markdown",
   "metadata": {},
   "source": [
    "# Data Structure"
   ]
  },
  {
   "cell_type": "markdown",
   "metadata": {},
   "source": [
    "Data structures are fundamental tools in computer science, allowing efficient organization, storage, and manipulation of data. Different types of data structures are optimized for different tasks"
   ]
  },
  {
   "cell_type": "code",
   "execution_count": 63,
   "metadata": {},
   "outputs": [
    {
     "data": {
      "text/html": [
       "<div>\n",
       "<style scoped>\n",
       "    .dataframe tbody tr th:only-of-type {\n",
       "        vertical-align: middle;\n",
       "    }\n",
       "\n",
       "    .dataframe tbody tr th {\n",
       "        vertical-align: top;\n",
       "    }\n",
       "\n",
       "    .dataframe thead th {\n",
       "        text-align: right;\n",
       "    }\n",
       "</style>\n",
       "<table border=\"1\" class=\"dataframe\">\n",
       "  <thead>\n",
       "    <tr style=\"text-align: right;\">\n",
       "      <th></th>\n",
       "      <th>sepal length (cm)</th>\n",
       "      <th>sepal width (cm)</th>\n",
       "      <th>petal length (cm)</th>\n",
       "      <th>petal width (cm)</th>\n",
       "      <th>species</th>\n",
       "    </tr>\n",
       "  </thead>\n",
       "  <tbody>\n",
       "    <tr>\n",
       "      <th>0</th>\n",
       "      <td>5.1</td>\n",
       "      <td>3.5</td>\n",
       "      <td>1.4</td>\n",
       "      <td>0.2</td>\n",
       "      <td>setosa</td>\n",
       "    </tr>\n",
       "    <tr>\n",
       "      <th>1</th>\n",
       "      <td>4.9</td>\n",
       "      <td>3.0</td>\n",
       "      <td>1.4</td>\n",
       "      <td>0.2</td>\n",
       "      <td>setosa</td>\n",
       "    </tr>\n",
       "    <tr>\n",
       "      <th>2</th>\n",
       "      <td>4.7</td>\n",
       "      <td>3.2</td>\n",
       "      <td>1.3</td>\n",
       "      <td>0.2</td>\n",
       "      <td>setosa</td>\n",
       "    </tr>\n",
       "    <tr>\n",
       "      <th>3</th>\n",
       "      <td>4.6</td>\n",
       "      <td>3.1</td>\n",
       "      <td>1.5</td>\n",
       "      <td>0.2</td>\n",
       "      <td>setosa</td>\n",
       "    </tr>\n",
       "    <tr>\n",
       "      <th>4</th>\n",
       "      <td>5.0</td>\n",
       "      <td>3.6</td>\n",
       "      <td>1.4</td>\n",
       "      <td>0.2</td>\n",
       "      <td>setosa</td>\n",
       "    </tr>\n",
       "  </tbody>\n",
       "</table>\n",
       "</div>"
      ],
      "text/plain": [
       "   sepal length (cm)  sepal width (cm)  petal length (cm)  petal width (cm)  \\\n",
       "0                5.1               3.5                1.4               0.2   \n",
       "1                4.9               3.0                1.4               0.2   \n",
       "2                4.7               3.2                1.3               0.2   \n",
       "3                4.6               3.1                1.5               0.2   \n",
       "4                5.0               3.6                1.4               0.2   \n",
       "\n",
       "  species  \n",
       "0  setosa  \n",
       "1  setosa  \n",
       "2  setosa  \n",
       "3  setosa  \n",
       "4  setosa  "
      ]
     },
     "metadata": {},
     "output_type": "display_data"
    }
   ],
   "source": [
    "import pandas as pd\n",
    "from sklearn.datasets import load_iris\n",
    "\n",
    "# Load Iris Dataset\n",
    "iris = load_iris()\n",
    "iris_df = pd.DataFrame(iris.data, columns=iris.feature_names)\n",
    "iris_df['species'] = iris.target_names[iris.target]\n",
    "display(iris_df.head())"
   ]
  },
  {
   "cell_type": "markdown",
   "metadata": {},
   "source": [
    "### Array\n",
    "\n",
    "A collection of elements arranged in a specific order (typically of the same type).\n",
    "\n",
    "Elements are accessed using an integer index.\n"
   ]
  },
  {
   "cell_type": "code",
   "execution_count": 64,
   "metadata": {},
   "outputs": [
    {
     "name": "stdout",
     "output_type": "stream",
     "text": [
      "First Sepal Length: 5.1\n",
      "Last Sepal Length: 5.9\n"
     ]
    }
   ],
   "source": [
    "import numpy as np\n",
    "# Store Sepal Lengths\n",
    "sepal_lengths = np.array(iris_df['sepal length (cm)'])\n",
    "\n",
    "print(\"First Sepal Length:\", sepal_lengths[0])\n",
    "print(\"Last Sepal Length:\", sepal_lengths[-1])\n",
    "# Store Sepal Lengths for all flowers in a structured format"
   ]
  },
  {
   "cell_type": "markdown",
   "metadata": {},
   "source": [
    "✅ Pros:\n",
    "- Fast access using indices.\n",
    "- Memory-efficient for fixed-size data.\n",
    "\n",
    "❌ Cons:\n",
    "- Insertion and deletion are costly if they require shifting elements."
   ]
  },
  {
   "cell_type": "markdown",
   "metadata": {},
   "source": [
    "First thing to understand is that a linked list is conceptually the same as an array.\n",
    "\n",
    "The only difference is in the efficiency of various operations. Most importantly:\n",
    "\n",
    "- Insertion in the middle: O(1) for list, O(n) for array.\n",
    "- Direct access to an element in the middle: O(n) for list, O(1) for array.\n"
   ]
  },
  {
   "cell_type": "markdown",
   "metadata": {},
   "source": [
    "### 📚 **Understanding Linked Lists: Singly, Doubly, and Circular**\n",
    "✅ Pros:\n",
    "- Dynamic size adjustment.\n",
    "- Efficient insertion and deletion.\n",
    "\n",
    "❌ Cons:\n",
    "- Slower search compared to arrays.\n",
    "- Extra memory for pointers.\n",
    "##### 🔗 **1. Singly Linked List**\n",
    "\n",
    "A **Singly Linked List (SLL)** is a data structure where each node points to the **next node** in the sequence, and the last node points to `None`.\n",
    "\n",
    " **Mathematical Representation**\n",
    "\n",
    "Each node contains:\n",
    "- A **data field** that stores the information.\n",
    "- A **next pointer** that points to the next node.\n",
    "\n",
    "$$\n",
    "\\text{Node}_1 \\rightarrow \\text{Node}_2 \\rightarrow \\text{Node}_3 \\rightarrow \\cdots \\rightarrow \\text{Node}_n \\rightarrow \\textbf{None}\n",
    "$$\n",
    "\n",
    "✅ **Advantages**\n",
    "- Dynamic size.\n",
    "- Efficient memory usage.\n",
    "\n",
    "❌ **Disadvantages**\n",
    "- Cannot traverse backward.\n",
    "- Searching takes \\( O(n) \\) time.\n"
   ]
  },
  {
   "cell_type": "markdown",
   "metadata": {},
   "source": [
    "message delivery on network (message is broken into packets and each packet has a key of the next one so that at the receiver's end , it will be easy to club them)\n"
   ]
  },
  {
   "cell_type": "code",
   "execution_count": 48,
   "metadata": {},
   "outputs": [
    {
     "name": "stdout",
     "output_type": "stream",
     "text": [
      "First 5 Flowers in Singly Linked List:\n",
      "Sepal Length: 5.0, Sepal Width: 3.6, Petal Length: 1.4, Petal Width: 0.2, Species: setosa\n",
      "Sepal Length: 4.6, Sepal Width: 3.1, Petal Length: 1.5, Petal Width: 0.2, Species: setosa\n",
      "Sepal Length: 4.7, Sepal Width: 3.2, Petal Length: 1.3, Petal Width: 0.2, Species: setosa\n",
      "Sepal Length: 4.9, Sepal Width: 3.0, Petal Length: 1.4, Petal Width: 0.2, Species: setosa\n",
      "Sepal Length: 5.1, Sepal Width: 3.5, Petal Length: 1.4, Petal Width: 0.2, Species: setosa\n"
     ]
    }
   ],
   "source": [
    "# Node class for Singly Linked List\n",
    "class IrisNode:\n",
    "    def __init__(self, sepal_length, sepal_width, petal_length, petal_width, species):\n",
    "        \"\"\"Initialize the node with the given values.\"\"\"\n",
    "        self.sepal_length = sepal_length \n",
    "        self.sepal_width = sepal_width\n",
    "        self.petal_length = petal_length\n",
    "        self.petal_width = petal_width\n",
    "        self.species = species\n",
    "        self.next = None\n",
    "\n",
    "# Singly Linked List class\n",
    "class IrisSinglyLinkedList:\n",
    "    \"\"\"Singly Linked List to store Iris flowers.\"\"\"\n",
    "    def __init__(self):\n",
    "        self.head = None # Initialize the head node to None\n",
    "    \n",
    "    def add_flower(self, sepal_length, sepal_width, petal_length, petal_width, species):\n",
    "        \"\"\"Add a new flower to the beginning of the linked list.\"\"\"\n",
    "        new_node = IrisNode(sepal_length, sepal_width, petal_length, petal_width, species) # Create a new node\n",
    "        new_node.next = self.head # Set the next of the new node to the current head\n",
    "        self.head = new_node \n",
    "    \n",
    "    def print_flowers(self, limit=5):\n",
    "        \"\"\"Print the flowers in the linked list.\"\"\"\n",
    "        current = self.head\n",
    "        count = 0\n",
    "        while current and count < limit: # Iterate through the linked list\n",
    "            print(f\"Sepal Length: {current.sepal_length}, Sepal Width: {current.sepal_width}, \"\n",
    "                  f\"Petal Length: {current.petal_length}, Petal Width: {current.petal_width}, \"\n",
    "                  f\"Species: {current.species}\")\n",
    "            current = current.next # Move to the next node\n",
    "            count += 1\n",
    "\n",
    "iris_linked_list = IrisSinglyLinkedList()\n",
    "\n",
    "for index, row in iris_df.head(5).iterrows():\n",
    "    iris_linked_list.add_flower(row['sepal length (cm)'], row['sepal width (cm)'],\n",
    "                                row['petal length (cm)'], row['petal width (cm)'], row['species'])\n",
    "\n",
    "print(\"First 5 Flowers in Singly Linked List:\")\n",
    "iris_linked_list.print_flowers()\n"
   ]
  },
  {
   "cell_type": "markdown",
   "metadata": {},
   "source": [
    "##### 🔁 **2. Doubly Linked List**\n",
    "\n",
    "A **Doubly Linked List (DLL)** is a type of linked list where each node has **two pointers**:\n",
    "- One pointing to the **next node**.\n",
    "- One pointing to the **previous node**.\n",
    "\n",
    "📊 **Mathematical Representation**\n",
    "\n",
    "$$\n",
    "\\textbf{None} \\leftarrow \\text{Node}_1 \\leftrightarrow \\text{Node}_2 \\leftrightarrow \\cdots \\leftrightarrow \\text{Node}_n \\rightarrow \\textbf{None}\n",
    "$$\n",
    "\n",
    "✅ **Advantages**\n",
    "- Bi-directional traversal.\n",
    "- Easier node deletion.\n",
    "\n",
    "❌ **Disadvantages**\n",
    "- Extra memory overhead for `prev` pointers.\n",
    "- Slightly complex implementation."
   ]
  },
  {
   "cell_type": "markdown",
   "metadata": {},
   "source": [
    "DNA molecules\n"
   ]
  },
  {
   "cell_type": "code",
   "execution_count": 26,
   "metadata": {},
   "outputs": [
    {
     "name": "stdout",
     "output_type": "stream",
     "text": [
      "➡️ Forward Traversal:\n",
      "setosa: Sepal(5.1, 3.5), Petal(1.4, 0.2)\n",
      "setosa: Sepal(4.9, 3.0), Petal(1.4, 0.2)\n",
      "setosa: Sepal(4.7, 3.2), Petal(1.3, 0.2)\n",
      "setosa: Sepal(4.6, 3.1), Petal(1.5, 0.2)\n",
      "setosa: Sepal(5.0, 3.6), Petal(1.4, 0.2)\n",
      "⬅️ Backward Traversal:\n",
      "setosa: Sepal(5.0, 3.6), Petal(1.4, 0.2)\n",
      "setosa: Sepal(4.6, 3.1), Petal(1.5, 0.2)\n",
      "setosa: Sepal(4.7, 3.2), Petal(1.3, 0.2)\n",
      "setosa: Sepal(4.9, 3.0), Petal(1.4, 0.2)\n",
      "setosa: Sepal(5.1, 3.5), Petal(1.4, 0.2)\n"
     ]
    }
   ],
   "source": [
    "# Node class for Doubly Linked List\n",
    "class IrisDoublyNode:\n",
    "    def __init__(self, sepal_length, sepal_width, petal_length, petal_width, species):\n",
    "        self.sepal_length = sepal_length\n",
    "        self.sepal_width = sepal_width\n",
    "        self.petal_length = petal_length\n",
    "        self.petal_width = petal_width\n",
    "        self.species = species\n",
    "        self.next = None\n",
    "        self.prev = None # Add a new pointer to the previous node\n",
    "\n",
    "# Doubly Linked List class\n",
    "class IrisDoublyLinkedList:\n",
    "    def __init__(self):\n",
    "        # Initialize head and tail to None\n",
    "        self.head = None \n",
    "        self.tail = None\n",
    "    \n",
    "    def add_flower(self, sepal_length, sepal_width, petal_length, petal_width, species):\n",
    "        new_node = IrisDoublyNode(sepal_length, sepal_width, petal_length, petal_width, species)\n",
    "        if not self.head: # If the list is empty\n",
    "            self.head = self.tail = new_node # set the head and tail to the new node\n",
    "        else: \n",
    "            self.tail.next = new_node # Set the next of the current tail to the new node\n",
    "            new_node.prev = self.tail # Set the previous of the new node to the current tail\n",
    "            self.tail = new_node # Set the tail to the new node\n",
    "    \n",
    "    def traverse_forward(self, limit=5):\n",
    "        \"\"\"Traverse the linked list in the forward direction.\"\"\"\n",
    "        current = self.head # Start from the head\n",
    "        count = 0\n",
    "        print(\"➡️ Forward Traversal:\")\n",
    "        while current and count < limit: # Iterate through the linked list\n",
    "            print(f\"{current.species}: Sepal({current.sepal_length}, {current.sepal_width}), \"\n",
    "                  f\"Petal({current.petal_length}, {current.petal_width})\")\n",
    "            current = current.next # Move to the next node\n",
    "            count += 1\n",
    "    \n",
    "    def traverse_backward(self, limit=5):\n",
    "        \"\"\"Traverse the linked list in the backward direction\"\"\"\n",
    "        current = self.tail # Start from the tail\n",
    "        count = 0\n",
    "        print(\"⬅️ Backward Traversal:\")\n",
    "        while current and count < limit: \n",
    "            print(f\"{current.species}: Sepal({current.sepal_length}, {current.sepal_width}), \"\n",
    "                  f\"Petal({current.petal_length}, {current.petal_width})\")\n",
    "            current = current.prev # Move to the previous node\n",
    "            count += 1\n",
    "\n",
    "iris_doubly_list = IrisDoublyLinkedList()\n",
    "\n",
    "for index, row in iris_df.head(5).iterrows():\n",
    "    iris_doubly_list.add_flower(row['sepal length (cm)'], row['sepal width (cm)'],\n",
    "                                row['petal length (cm)'], row['petal width (cm)'], row['species'])\n",
    "\n",
    "iris_doubly_list.traverse_forward()\n",
    "\n",
    "iris_doubly_list.traverse_backward()\n"
   ]
  },
  {
   "cell_type": "code",
   "execution_count": null,
   "metadata": {},
   "outputs": [],
   "source": [
    "# Node class for Singly Linked List\n",
    "class IrisNode:\n",
    "    def __init__(self, sepal_length, sepal_width, petal_length, petal_width, species):\n",
    "        \"\"\"Initialize the node with the given values.\"\"\"\n",
    "        self.sepal_length = sepal_length \n",
    "        self.sepal_width = sepal_width\n",
    "        self.petal_length = petal_length\n",
    "        self.petal_width = petal_width\n",
    "        self.species = species\n",
    "        self.next = None\n",
    "\n",
    "# Singly Linked List class\n",
    "class IrisSinglyLinkedList:\n",
    "    \"\"\"Singly Linked List to store Iris flowers.\"\"\"\n",
    "    def __init__(self):\n",
    "        self.head = None # Initialize the head node to None\n",
    "    \n",
    "    def add_flower(self, sepal_length, sepal_width, petal_length, petal_width, species):\n",
    "        \"\"\"Add a new flower to the beginning of the linked list.\"\"\"\n",
    "        new_node = IrisNode(sepal_length, sepal_width, petal_length, petal_width, species) # Create a new node\n",
    "        new_node.next = self.head # Set the next of the new node to the current head\n",
    "        self.head = new_node \n",
    "    \n",
    "    def print_flowers(self, limit=5):\n",
    "        \"\"\"Print the flowers in the linked list.\"\"\"\n",
    "        current = self.head\n",
    "        count = 0\n",
    "        while current and count < limit: # Iterate through the linked list\n",
    "            print(f\"Sepal Length: {current.sepal_length}, Sepal Width: {current.sepal_width}, \"\n",
    "                  f\"Petal Length: {current.petal_length}, Petal Width: {current.petal_width}, \"\n",
    "                  f\"Species: {current.species}\")\n",
    "            current = current.next # Move to the next node\n",
    "            count += 1\n"
   ]
  },
  {
   "cell_type": "markdown",
   "metadata": {},
   "source": [
    "##### 🔄 **3. Circular Linked List**\n",
    "\n",
    "A **Circular Linked List (CLL)** is a variation where:\n",
    "- The **last node points back to the first node**, forming a circular structure.\n",
    "\n",
    "📊 **Mathematical Representation**\n",
    "\n",
    "**Singly Circular Linked List:**\n",
    "$$\n",
    "\\text{Node}_1 \\rightarrow \\text{Node}_2 \\rightarrow \\cdots \\rightarrow \\text{Node}_n \\rightarrow \\text{Node}_1\n",
    "$$\n",
    "\n",
    "**Doubly Circular Linked List:**\n",
    "$$\n",
    "\\text{Node}_1 \\leftrightarrow \\text{Node}_2 \\leftrightarrow \\cdots \\leftrightarrow \\text{Node}_n \\leftrightarrow \\text{Node}_1\n",
    "$$\n",
    "\n",
    " ✅ **Advantages**\n",
    "- Infinite traversal capability.\n",
    "- Optimized for circular or repeating tasks.\n",
    "\n",
    "❌ **Disadvantages**\n",
    "- Slightly complex traversal logic.\n",
    "- Debugging errors may cause infinite loops."
   ]
  },
  {
   "cell_type": "markdown",
   "metadata": {},
   "source": [
    "Multiple Player board game\n"
   ]
  },
  {
   "cell_type": "code",
   "execution_count": 45,
   "metadata": {},
   "outputs": [
    {
     "name": "stdout",
     "output_type": "stream",
     "text": [
      "🔄 Circular Linked List Traversal (Limited to 10 cycles):\n",
      "setosa: Sepal(5.1, 3.5), Petal(1.4, 0.2)\n",
      "setosa: Sepal(4.9, 3.0), Petal(1.4, 0.2)\n",
      "setosa: Sepal(4.7, 3.2), Petal(1.3, 0.2)\n",
      "setosa: Sepal(4.6, 3.1), Petal(1.5, 0.2)\n",
      "setosa: Sepal(5.0, 3.6), Petal(1.4, 0.2)\n",
      "↩️ Returned to Head Node (Restarting Cycle)\n",
      "setosa: Sepal(5.1, 3.5), Petal(1.4, 0.2)\n",
      "setosa: Sepal(4.9, 3.0), Petal(1.4, 0.2)\n",
      "setosa: Sepal(4.7, 3.2), Petal(1.3, 0.2)\n",
      "setosa: Sepal(4.6, 3.1), Petal(1.5, 0.2)\n",
      "setosa: Sepal(5.0, 3.6), Petal(1.4, 0.2)\n",
      "↩️ Returned to Head Node (Restarting Cycle)\n"
     ]
    }
   ],
   "source": [
    "# Circular Linked List Node\n",
    "class IrisCircularNode:\n",
    "    def __init__(self, sepal_length, sepal_width, petal_length, petal_width, species):\n",
    "        self.sepal_length = sepal_length\n",
    "        self.sepal_width = sepal_width\n",
    "        self.petal_length = petal_length\n",
    "        self.petal_width = petal_width\n",
    "        self.species = species\n",
    "        self.next = None\n",
    "\n",
    "# Circular Linked List\n",
    "class IrisCircularLinkedList:\n",
    "    def __init__(self):\n",
    "        self.head = None\n",
    "\n",
    "    def add_flower(self, sepal_length, sepal_width, petal_length, petal_width, species):\n",
    "        \"\"\"Add a flower node to the circular linked list.\"\"\"\n",
    "        new_node = IrisCircularNode(sepal_length, sepal_width, petal_length, petal_width, species) # Create a new node\n",
    "        if not self.head:\n",
    "            self.head = new_node \n",
    "            new_node.next = self.head  # Point to itself to make it circular\n",
    "        else:\n",
    "            current = self.head # Start from the head\n",
    "            while current.next != self.head: # Traverse to the last node\n",
    "                current = current.next # Move to the next node\n",
    "            current.next = new_node # Set the next of the last node to the new node\n",
    "            new_node.next = self.head # Set the next of the new node to the head\n",
    "\n",
    "    def print_species(self, limit=10):\n",
    "        \"\"\"Print the circular linked list with a limit on the number of cycles.\"\"\"\n",
    "        if not self.head:\n",
    "            print(\"The circular linked list is empty.\")\n",
    "            return\n",
    "\n",
    "        current = self.head # Start from the head\n",
    "        count = 0\n",
    "        print(\"🔄 Circular Linked List Traversal (Limited to\", limit, \"cycles):\")\n",
    "        while count < limit: # Iterate through the linked list\n",
    "            print(\n",
    "                f\"{current.species}: Sepal({current.sepal_length}, {current.sepal_width}), \"\n",
    "                f\"Petal({current.petal_length}, {current.petal_width})\"\n",
    "            )\n",
    "            current = current.next # Move to the next node\n",
    "            count += 1\n",
    "            if current == self.head: # If we reach the head node again\n",
    "                print(\"↩️ Returned to Head Node (Restarting Cycle)\")\n",
    "\n",
    "iris_circular_list = IrisCircularLinkedList()\n",
    "\n",
    "for index, row in iris_df.head(5).iterrows():\n",
    "    iris_circular_list.add_flower(\n",
    "                    row['sepal length (cm)'], row['sepal width (cm)'],\n",
    "                    row['petal length (cm)'], row['petal width (cm)'], row['species']\n",
    "    )\n",
    "\n",
    "# Print species in a circular fashion\n",
    "iris_circular_list.print_species(limit=10)\n"
   ]
  },
  {
   "cell_type": "markdown",
   "metadata": {},
   "source": [
    "\n",
    "\n",
    "##### 📊 **Comparison Table**\n",
    "\n",
    "| Feature            | Singly Linked List | Doubly Linked List | Circular Linked List |\n",
    "|---------------------|--------------------|--------------------|----------------------|\n",
    "| **Traversal**      | One-way           | Two-way            | Infinite traversal   |\n",
    "| **Memory Overhead**| Low               | High               | Moderate             |\n",
    "| **Insertion/Deletion** | Moderate          | Easy              | Moderate             |\n",
    "| **End Node**       | Points to `None`  | Points to `None`   | Points to `Head`     |\n",
    "\n",
    "\n"
   ]
  },
  {
   "cell_type": "code",
   "execution_count": 50,
   "metadata": {},
   "outputs": [
    {
     "name": "stdout",
     "output_type": "stream",
     "text": [
      "Sample Dataset (ID, Feature Value):\n",
      "(0, 5.1)\n",
      "(1, 4.9)\n",
      "(2, 4.7)\n",
      "(3, 4.6)\n",
      "(4, 5.0)\n"
     ]
    }
   ],
   "source": [
    "from sklearn.datasets import load_iris\n",
    "\n",
    "iris = load_iris()\n",
    "data = iris.data\n",
    "feature_names = iris.feature_names\n",
    "target = iris.target\n",
    "\n",
    "dataset = [(i, data[i][0]) for i in range(len(data))]  # ID + first feature as a key-value pair\n",
    "\n",
    "print(\"Sample Dataset (ID, Feature Value):\")\n",
    "for i in range(5):\n",
    "    print(dataset[i])\n"
   ]
  },
  {
   "cell_type": "markdown",
   "metadata": {},
   "source": [
    "### 📚 **Hashing and Universal Hashing Overview**\n",
    "✅ Pros:\n",
    "- Fast lookups and insertions.\n",
    "\n",
    "**Hashing**\n",
    "- Hashing efficiently stores and retrieves data using a **hash table**.\n",
    "- A **hash function** maps data items to **positions (buckets)** in the table.\n",
    "- **Advantages:**  \n",
    "   - Reduced memory usage.  \n",
    "   - Faster lookups compared to linked lists.\n",
    "- A **hash function (h(x))** maps data to a finite set of buckets:\n",
    "  $$\n",
    "  h(x): \\text{Data Item} \\rightarrow \\text{Bucket Index}\n",
    "  $$\n",
    "- **Goal:** Evenly distribute data across buckets to minimize collisions.  \n",
    "- Poor hash functions can lead to **clustering**, reducing efficiency.\n",
    "\n"
   ]
  },
  {
   "cell_type": "code",
   "execution_count": 52,
   "metadata": {},
   "outputs": [
    {
     "name": "stdout",
     "output_type": "stream",
     "text": [
      "\n",
      "Retrieve from Basic Hash Table:\n",
      "Key: 0 -> Value: 5.1\n",
      "Key: 1 -> Value: 4.9\n",
      "Key: 2 -> Value: 4.7\n",
      "Key: 3 -> Value: 4.6\n",
      "Key: 4 -> Value: 5.0\n"
     ]
    }
   ],
   "source": [
    "# Basic Hash Table with Modulo Hashing\n",
    "class BasicHashTable:\n",
    "    \"\"\"Basic hash table with modulo hashing\"\"\"\n",
    "    def __init__(self, size):\n",
    "        \"\"\"Initialize hash table\"\"\"\n",
    "        self.size = size # Number of buckets\n",
    "        self.table = [None] * size # Initialize hash table with empty buckets\n",
    "\n",
    "    def hash_function(self, key):\n",
    "        \"\"\"Hash function to determine index of key-value pair\"\"\"\n",
    "        return int(key) % self.size  # Modulo hashing\n",
    "\n",
    "    def insert(self, key, value):\n",
    "        \"\"\"Insert key-value pair into hash table\"\"\"\n",
    "        index = self.hash_function(key) # Get index from hash function\n",
    "        if self.table[index] is None: # If bucket is empty:\n",
    "            self.table[index] = [] # Create new list\n",
    "        self.table[index].append((key, value)) # Append key-value pair to bucket\n",
    "\n",
    "    def retrieve(self, key):\n",
    "        \"\"\"Retrieve value from hash table using key\"\"\"\n",
    "        index = self.hash_function(key) # Get index from hash function\n",
    "        if self.table[index]: # If bucket is not empty:\n",
    "            for k, v in self.table[index]: # Iterate through key-value pairs in bucket\n",
    "                if k == key: # If key matches:\n",
    "                    return v \n",
    "        return None\n",
    "\n",
    "basic_ht = BasicHashTable(size=10)\n",
    "\n",
    "for key, value in dataset:\n",
    "    basic_ht.insert(key, value) # Insert key-value pair into hash table\n",
    "\n",
    "print(\"\\nRetrieve from Basic Hash Table:\")\n",
    "for i in range(5):\n",
    "    print(f\"Key: {dataset[i][0]} -> Value: {basic_ht.retrieve(dataset[i][0])}\")\n",
    "\n",
    "# Collisions are handled using chaining (linked list in buckets)."
   ]
  },
  {
   "cell_type": "markdown",
   "metadata": {},
   "source": [
    " **Universal Hashing**\n",
    "- **Problem:** No single hash function works optimally for all datasets.\n",
    "- **Solution:** Use a **family of hash functions (H)** and randomly select one.\n",
    "- **Definition:** A hash family is *universal* if:\n",
    "  $$\n",
    "  P(h(x) = h(y)) = \\frac{1}{n}, \\quad \\text{for all } x \\neq y\n",
    "  $$\n",
    "  - *n:* Number of buckets.\n",
    "\n",
    "\n",
    "- From number theory, for a hash table with **n prime buckets**:\n",
    "  $$\n",
    "  h_a(x) = (a_1 x_1 + a_2 x_2 + \\ldots + a_k x_k) \\mod n\n",
    "  $$\n",
    "  - *x:* Data represented as a k-tuple.\n",
    "  - *a:* Randomly selected coefficients from \\(\\{0, …, n-1\\}\\).\n",
    "  - *n:* Number of buckets.\n",
    "\n",
    "- Minimizes **collisions** with high probability.\n",
    "- Ensures **good average-case performance**.\n",
    "- Combines **randomization** with **mathematical guarantees**.\n"
   ]
  },
  {
   "cell_type": "code",
   "execution_count": 54,
   "metadata": {},
   "outputs": [
    {
     "name": "stdout",
     "output_type": "stream",
     "text": [
      "\n",
      "Retrieve from Universal Hash Table:\n",
      "Key: 0 -> Value: 5.1\n",
      "Key: 1 -> Value: 4.9\n",
      "Key: 2 -> Value: 4.7\n",
      "Key: 3 -> Value: 4.6\n",
      "Key: 4 -> Value: 5.0\n"
     ]
    }
   ],
   "source": [
    "import random\n",
    "# Universal Hash Table\n",
    "class UniversalHashTable:\n",
    "    def __init__(self, size, prime):\n",
    "        self.size = size # Number of buckets\n",
    "        self.prime = prime # Prime number for modulo hashing\n",
    "        self.a = random.randint(1, prime - 1)  # Random coefficient\n",
    "        self.b = random.randint(0, prime - 1)  # Random offset\n",
    "        self.table = [None] * size # Initialize hash table with empty buckets\n",
    "\n",
    "    def hash_function(self, key):\n",
    "        \"\"\"The hash function avoids clustering by using a randomized formula\"\"\"\n",
    "        return ((self.a * key + self.b) % self.prime) % self.size # Universal hashing\n",
    "\n",
    "    def insert(self, key, value): # same as before\n",
    "        index = self.hash_function(key)\n",
    "        if self.table[index] is None:\n",
    "            self.table[index] = []\n",
    "        self.table[index].append((key, value))\n",
    "\n",
    "    def retrieve(self, key): # same as before\n",
    "        index = self.hash_function(key)\n",
    "        if self.table[index]:\n",
    "            for k, v in self.table[index]:\n",
    "                if k == key:\n",
    "                    return v\n",
    "        return None\n",
    "\n",
    "universal_ht = UniversalHashTable(size=10, prime=31)\n",
    "\n",
    "for key, value in dataset:\n",
    "    universal_ht.insert(key, value)\n",
    "\n",
    "print(\"\\nRetrieve from Universal Hash Table:\")\n",
    "for i in range(5):\n",
    "    print(f\"Key: {dataset[i][0]} -> Value: {universal_ht.retrieve(dataset[i][0])}\")\n"
   ]
  },
  {
   "cell_type": "code",
   "execution_count": 55,
   "metadata": {},
   "outputs": [
    {
     "data": {
      "image/png": "[encoded data removed]",
      "text/plain": [
       "<Figure size 1200x500 with 1 Axes>"
      ]
     },
     "metadata": {},
     "output_type": "display_data"
    },
    {
     "data": {
      "image/png": "[encoded data removed]",
      "text/plain": [
       "<Figure size 640x480 with 1 Axes>"
      ]
     },
     "metadata": {},
     "output_type": "display_data"
    }
   ],
   "source": [
    "import matplotlib.pyplot as plt\n",
    "\n",
    "def plot_hash_distribution(ht, dataset, title):\n",
    "    hash_indices = [ht.hash_function(key) for key, _ in dataset]\n",
    "    plt.hist(hash_indices, bins=ht.size, edgecolor='black')\n",
    "    plt.title(title)\n",
    "    plt.xlabel('Hash Bucket')\n",
    "    plt.ylabel('Number of Keys')\n",
    "    plt.show()\n",
    "\n",
    "# Plot Distribution\n",
    "plt.figure(figsize=(12, 5))\n",
    "\n",
    "plt.subplot(1, 2, 1)\n",
    "plot_hash_distribution(basic_ht, dataset, \"Basic Hashing Distribution\")\n",
    "\n",
    "plt.subplot(1, 2, 2)\n",
    "plot_hash_distribution(universal_ht, dataset, \"Universal Hashing Distribution\")\n"
   ]
  },
  {
   "cell_type": "markdown",
   "metadata": {},
   "source": [
    "1. Basic Hashing may not account for skewed data distribution, leading to potential clustering.\n",
    "\n",
    "2. Universal Hashing aims to reduce clustering by introducing randomness into bucket assignment.\n",
    "\n",
    "By selecting a hash function at random from a universal family, the probability of collisions is minimized.\n",
    "This ensures better average-case performance across diverse datasets."
   ]
  },
  {
   "cell_type": "code",
   "execution_count": 62,
   "metadata": {},
   "outputs": [
    {
     "name": "stdout",
     "output_type": "stream",
     "text": [
      "\n",
      "Performance Comparison:\n",
      "Basic Hash Table Lookup Time: 0.0000 seconds\n",
      "Universal Hash Table Lookup Time: 0.0000 seconds\n"
     ]
    }
   ],
   "source": [
    "import time\n",
    "\n",
    "def benchmark_hash_table(ht, dataset):\n",
    "    start_time = time.time()\n",
    "    for key, _ in dataset:\n",
    "        ht.retrieve(key)\n",
    "    end_time = time.time()\n",
    "    return end_time - start_time\n",
    "\n",
    "basic_time = benchmark_hash_table(basic_ht, dataset)\n",
    "universal_time = benchmark_hash_table(universal_ht, dataset)\n",
    "\n",
    "print(\"\\nPerformance Comparison:\")\n",
    "print(f\"Basic Hash Table Lookup Time: {basic_time:.4f} seconds\")\n",
    "print(f\"Universal Hash Table Lookup Time: {universal_time:.4f} seconds\")\n"
   ]
  },
  {
   "cell_type": "markdown",
   "metadata": {},
   "source": [
    "### Graph\n",
    "\n",
    "A set of nodes (vertices) connected by edges.\n",
    "- Use Case: Social networks, network routing, recommendation systems."
   ]
  },
  {
   "cell_type": "markdown",
   "metadata": {},
   "source": [
    "### Stack\n",
    "\n",
    "A LIFO (Last In, First Out) data structure.\n",
    "- Use Case: Undo/Redo, function call stack."
   ]
  },
  {
   "cell_type": "code",
   "execution_count": 66,
   "metadata": {},
   "outputs": [
    {
     "name": "stdout",
     "output_type": "stream",
     "text": [
      "Top of Stack (Last Species Added): virginica\n",
      "Popped Species: virginica\n"
     ]
    }
   ],
   "source": [
    "# Stack Implementation for Species\n",
    "class IrisStack:\n",
    "    def __init__(self):\n",
    "        self.stack = [] # Initialize an empty list as a stack\n",
    "\n",
    "    def push(self, species):\n",
    "        self.stack.append(species) # Append species to the stack\n",
    "\n",
    "    def pop(self):\n",
    "        if not self.is_empty(): # Check if the stack is not empty\n",
    "            return self.stack.pop() # Remove and return the last species\n",
    "        return None\n",
    "\n",
    "    def peek(self):\n",
    "        if not self.is_empty(): # Check if the stack is not empty\n",
    "            return self.stack[-1] # Return the last species (this time without removing it)\n",
    "        return None\n",
    "\n",
    "    def is_empty(self): # Check if the stack is empty\n",
    "        return len(self.stack) == 0 # Return True if the stack is empty, False otherwise\n",
    "\n",
    "iris_stack = IrisStack()\n",
    "for species in iris_df['species'].unique():\n",
    "    iris_stack.push(species)\n",
    "\n",
    "print(\"Top of Stack (Last Species Added):\", iris_stack.peek())\n",
    "print(\"Popped Species:\", iris_stack.pop())\n",
    "# To Keep track of recently accessed species for backtracking"
   ]
  },
  {
   "cell_type": "markdown",
   "metadata": {},
   "source": [
    "✅ Pros:\n",
    "\n",
    "- Efficient push and pop operations.\n",
    "\n",
    "❌ Cons:\n",
    "- Limited access (only the top element)."
   ]
  },
  {
   "cell_type": "markdown",
   "metadata": {},
   "source": [
    "### Queue\n",
    "\n",
    "A FIFO (First In, First Out) data structure.\n",
    "- Use Case: Job scheduling, printer queues."
   ]
  },
  {
   "cell_type": "code",
   "execution_count": 67,
   "metadata": {},
   "outputs": [
    {
     "name": "stdout",
     "output_type": "stream",
     "text": [
      "First in Queue (Oldest Species): setosa\n",
      "Next in Queue: versicolor\n"
     ]
    }
   ],
   "source": [
    "from collections import deque\n",
    "\n",
    "# Queue Implementation for Species\n",
    "class IrisQueue:\n",
    "    def __init__(self):\n",
    "        self.queue = deque() # Initialize a deque as a queue\n",
    "\n",
    "    def enqueue(self, species):\n",
    "        self.queue.append(species) # Append species to the queue\n",
    "\n",
    "    def dequeue(self):\n",
    "        if not self.is_empty(): # Check if the queue is not empty\n",
    "            return self.queue.popleft() # Remove and return the first species\n",
    "        return None\n",
    "\n",
    "    def is_empty(self):\n",
    "        return len(self.queue) == 0 # Check if the queue is empty\n",
    "\n",
    "iris_queue = IrisQueue()\n",
    "for species in iris_df['species'].unique():\n",
    "    iris_queue.enqueue(species)\n",
    "\n",
    "print(\"First in Queue (Oldest Species):\", iris_queue.dequeue())\n",
    "print(\"Next in Queue:\", iris_queue.dequeue())\n",
    "# Process flowers sequentially for analysis"
   ]
  },
  {
   "cell_type": "markdown",
   "metadata": {},
   "source": [
    "✅ Pros:\n",
    "- Efficient for scheduling tasks.\n",
    "\n",
    "❌ Cons:\n",
    "- Limited direct access to elements."
   ]
  },
  {
   "cell_type": "markdown",
   "metadata": {},
   "source": [
    "### Tree\n",
    "A tree is a hierarchical data structure consisting of nodes connected by edges. A binary tree ensures every node has at most two children.\n",
    "\n",
    "- Use Case: File systems, database indexes"
   ]
  },
  {
   "cell_type": "code",
   "execution_count": 68,
   "metadata": {},
   "outputs": [
    {
     "name": "stdout",
     "output_type": "stream",
     "text": [
      "In-Order Traversal of Iris Tree:\n",
      "petal length (cm): 1.0\n",
      "petal length (cm): 1.1\n",
      "petal length (cm): 1.2\n",
      "petal length (cm): 1.2\n",
      "petal length (cm): 1.3\n",
      "petal length (cm): 1.3\n",
      "petal length (cm): 1.3\n",
      "petal length (cm): 1.3\n",
      "petal length (cm): 1.3\n",
      "petal length (cm): 1.3\n",
      "petal length (cm): 1.3\n",
      "petal length (cm): 1.4\n",
      "petal length (cm): 1.4\n",
      "petal length (cm): 1.4\n",
      "petal length (cm): 1.4\n",
      "petal length (cm): 1.4\n",
      "petal length (cm): 1.4\n",
      "petal length (cm): 1.4\n",
      "petal length (cm): 1.4\n",
      "petal length (cm): 1.4\n",
      "petal length (cm): 1.4\n",
      "petal length (cm): 1.4\n",
      "petal length (cm): 1.4\n",
      "petal length (cm): 1.4\n",
      "petal length (cm): 1.5\n",
      "petal length (cm): 1.5\n",
      "petal length (cm): 1.5\n",
      "petal length (cm): 1.5\n",
      "petal length (cm): 1.5\n",
      "petal length (cm): 1.5\n",
      "petal length (cm): 1.5\n",
      "petal length (cm): 1.5\n",
      "petal length (cm): 1.5\n",
      "petal length (cm): 1.5\n",
      "petal length (cm): 1.5\n",
      "petal length (cm): 1.5\n",
      "petal length (cm): 1.5\n",
      "petal length (cm): 1.6\n",
      "petal length (cm): 1.6\n",
      "petal length (cm): 1.6\n",
      "petal length (cm): 1.6\n",
      "petal length (cm): 1.6\n",
      "petal length (cm): 1.6\n",
      "petal length (cm): 1.6\n",
      "petal length (cm): 1.7\n",
      "petal length (cm): 1.7\n",
      "petal length (cm): 1.7\n",
      "petal length (cm): 1.7\n",
      "petal length (cm): 1.9\n",
      "petal length (cm): 1.9\n",
      "petal length (cm): 3.0\n",
      "petal length (cm): 3.3\n",
      "petal length (cm): 3.3\n",
      "petal length (cm): 3.5\n",
      "petal length (cm): 3.5\n",
      "petal length (cm): 3.6\n",
      "petal length (cm): 3.7\n",
      "petal length (cm): 3.8\n",
      "petal length (cm): 3.9\n",
      "petal length (cm): 3.9\n",
      "petal length (cm): 3.9\n",
      "petal length (cm): 4.0\n",
      "petal length (cm): 4.0\n",
      "petal length (cm): 4.0\n",
      "petal length (cm): 4.0\n",
      "petal length (cm): 4.0\n",
      "petal length (cm): 4.1\n",
      "petal length (cm): 4.1\n",
      "petal length (cm): 4.1\n",
      "petal length (cm): 4.2\n",
      "petal length (cm): 4.2\n",
      "petal length (cm): 4.2\n",
      "petal length (cm): 4.2\n",
      "petal length (cm): 4.3\n",
      "petal length (cm): 4.3\n",
      "petal length (cm): 4.4\n",
      "petal length (cm): 4.4\n",
      "petal length (cm): 4.4\n",
      "petal length (cm): 4.4\n",
      "petal length (cm): 4.5\n",
      "petal length (cm): 4.5\n",
      "petal length (cm): 4.5\n",
      "petal length (cm): 4.5\n",
      "petal length (cm): 4.5\n",
      "petal length (cm): 4.5\n",
      "petal length (cm): 4.5\n",
      "petal length (cm): 4.5\n",
      "petal length (cm): 4.6\n",
      "petal length (cm): 4.6\n",
      "petal length (cm): 4.6\n",
      "petal length (cm): 4.7\n",
      "petal length (cm): 4.7\n",
      "petal length (cm): 4.7\n",
      "petal length (cm): 4.7\n",
      "petal length (cm): 4.7\n",
      "petal length (cm): 4.8\n",
      "petal length (cm): 4.8\n",
      "petal length (cm): 4.8\n",
      "petal length (cm): 4.8\n",
      "petal length (cm): 4.9\n",
      "petal length (cm): 4.9\n",
      "petal length (cm): 4.9\n",
      "petal length (cm): 4.9\n",
      "petal length (cm): 4.9\n",
      "petal length (cm): 5.0\n",
      "petal length (cm): 5.0\n",
      "petal length (cm): 5.0\n",
      "petal length (cm): 5.0\n",
      "petal length (cm): 5.1\n",
      "petal length (cm): 5.1\n",
      "petal length (cm): 5.1\n",
      "petal length (cm): 5.1\n",
      "petal length (cm): 5.1\n",
      "petal length (cm): 5.1\n",
      "petal length (cm): 5.1\n",
      "petal length (cm): 5.1\n",
      "petal length (cm): 5.2\n",
      "petal length (cm): 5.2\n",
      "petal length (cm): 5.3\n",
      "petal length (cm): 5.3\n",
      "petal length (cm): 5.4\n",
      "petal length (cm): 5.4\n",
      "petal length (cm): 5.5\n",
      "petal length (cm): 5.5\n",
      "petal length (cm): 5.5\n",
      "petal length (cm): 5.6\n",
      "petal length (cm): 5.6\n",
      "petal length (cm): 5.6\n",
      "petal length (cm): 5.6\n",
      "petal length (cm): 5.6\n",
      "petal length (cm): 5.6\n",
      "petal length (cm): 5.7\n",
      "petal length (cm): 5.7\n",
      "petal length (cm): 5.7\n",
      "petal length (cm): 5.8\n",
      "petal length (cm): 5.8\n",
      "petal length (cm): 5.8\n",
      "petal length (cm): 5.9\n",
      "petal length (cm): 5.9\n",
      "petal length (cm): 6.0\n",
      "petal length (cm): 6.0\n",
      "petal length (cm): 6.1\n",
      "petal length (cm): 6.1\n",
      "petal length (cm): 6.1\n",
      "petal length (cm): 6.3\n",
      "petal length (cm): 6.4\n",
      "petal length (cm): 6.6\n",
      "petal length (cm): 6.7\n",
      "petal length (cm): 6.7\n",
      "petal length (cm): 6.9\n"
     ]
    }
   ],
   "source": [
    "class IrisNode:\n",
    "    def __init__(self, feature, value):\n",
    "        \"\"\"Initialize the node with the given feature and value.\"\"\"\n",
    "        self.feature = feature # Feature name\n",
    "        self.value = value # Feature value\n",
    "        self.left = None # Pointer to the left child\n",
    "        self.right = None # Pointer to the right child\n",
    "\n",
    "class IrisTree:\n",
    "    def __init__(self):\n",
    "        self.root = None # Initialize the root node to None\n",
    "\n",
    "    def insert(self, feature, value):\n",
    "        \"\"\"Insert a new node into the tree.\"\"\"\n",
    "        if not self.root: # If the tree is empty\n",
    "            self.root = IrisNode(feature, value) # Set the root to the new node\n",
    "        else:\n",
    "            self._insert_recursive(self.root, feature, value) # Insert recursively\n",
    "\n",
    "    def _insert_recursive(self, node, feature, value):\n",
    "        \"\"\"Insert a new node into the tree using recursion.\"\"\"\n",
    "        if value < node.value: # If the value is less than the current node\n",
    "            if node.left is None: # If the left child is None\n",
    "                node.left = IrisNode(feature, value) # Insert as the left child\n",
    "            else: # If the left child is not None\n",
    "                self._insert_recursive(node.left, feature, value) # Recur on the left child\n",
    "        else: # If the value is greater than or equal to the current node\n",
    "            if node.right is None: # If the right child is None\n",
    "                node.right = IrisNode(feature, value) # Insert as the right child\n",
    "            else: # If the right child is not None\n",
    "                self._insert_recursive(node.right, feature, value) # Recur on the right child\n",
    "\n",
    "    def in_order_traversal(self, node):\n",
    "        \"\"\"Perform in-order traversal of the tree.\"\"\"\n",
    "        if node: # If the node is not None\n",
    "            self.in_order_traversal(node.left)  # Recur on the left child\n",
    "            print(f\"{node.feature}: {node.value}\") \n",
    "            self.in_order_traversal(node.right) # Recur on the right child\n",
    "\n",
    "iris_tree = IrisTree()\n",
    "for _, row in iris_df.iterrows():\n",
    "    iris_tree.insert('petal length (cm)', row['petal length (cm)'])\n",
    "\n",
    "print(\"In-Order Traversal of Iris Tree:\")\n",
    "iris_tree.in_order_traversal(iris_tree.root)\n",
    "# Classify flowers based on sepal and petal characteristics"
   ]
  },
  {
   "cell_type": "markdown",
   "metadata": {},
   "source": [
    "✅ Pros:\n",
    "\n",
    "- Efficient for search and sort operations.\n",
    "\n",
    "❌ Cons:\n",
    "- Can become unbalanced."
   ]
  },
  {
   "cell_type": "markdown",
   "metadata": {},
   "source": [
    "### Trie (Prefix Tree)\n",
    "A tree-like structure used for storing strings efficiently.\n",
    "- Use Case: Autocomplete, spell check.\n"
   ]
  },
  {
   "cell_type": "markdown",
   "metadata": {},
   "source": [
    "✅ Pros:\n",
    "\n",
    "- Fast lookup for string prefixes.\n",
    "\n",
    "❌ Cons:\n",
    "- Can consume significant memory."
   ]
  },
  {
   "cell_type": "markdown",
   "metadata": {},
   "source": [
    "### Graph\n",
    "\n",
    "A graph consists of nodes (vertices) connected by edges. Graphs can be directed/undirected and weighted/unweighted.\n"
   ]
  },
  {
   "cell_type": "code",
   "execution_count": 71,
   "metadata": {},
   "outputs": [
    {
     "data": {
      "image/png": "[encoded data removed]",
      "text/plain": [
       "<Figure size 800x600 with 1 Axes>"
      ]
     },
     "metadata": {},
     "output_type": "display_data"
    }
   ],
   "source": [
    "import networkx as nx\n",
    "\n",
    "# Build a Graph of Species Relationships\n",
    "G = nx.Graph()\n",
    "species = iris_df['species'].unique()\n",
    "\n",
    "# Add Nodes (Species)\n",
    "for s in species:\n",
    "    G.add_node(s)\n",
    "\n",
    "# Add Edges (Assume Similarity Relationships)\n",
    "G.add_edges_from([\n",
    "    (species[0], species[1]),\n",
    "    (species[1], species[2]),\n",
    "    (species[0], species[2])\n",
    "])\n",
    "\n",
    "# Model relationships between species based on feature similarities\n",
    "\n",
    "plt.figure(figsize=(8, 6))\n",
    "nx.draw(G, with_labels=True, node_color='skyblue', node_size=2000, font_size=12, font_color='black', font_weight='bold')\n",
    "plt.title(\"Graph Representation of Iris Species Relationships\")\n",
    "plt.show()\n"
   ]
  },
  {
   "attachments": {
    "image.png": {
     "image/png": "[encoded data removed]"
    }
   },
   "cell_type": "markdown",
   "metadata": {},
   "source": [
    "![image.png](attachment:image.png)"
   ]
  },
  {
   "cell_type": "markdown",
   "metadata": {},
   "source": [
    "### 🚀 **MapReduce**\n",
    "\n",
    "MapReduce is a **distributed data processing framework** designed to handle massive datasets across multiple machines efficiently. It splits tasks into two main phases: **Map** and **Reduce**.\n",
    "\n",
    "🛠️ **MapReduce Workflow**\n",
    "\n",
    "1. **Map Phase ($\\textbf{map}$)**  \n",
    "   - Processes each data record independently.  \n",
    "   - Outputs intermediate **key-value pairs** $(k_1, v_1)$.\n",
    "\n",
    "2. **Shuffle and Sort Phase ($\\textbf{shuffle \\& sort}$)**  \n",
    "   - Groups intermediate key-value pairs by their **key** $(k_1)$.\n",
    "   - Ensures that all values corresponding to the same key are processed together.\n",
    "\n",
    "3. **Reduce Phase ($\\textbf{reduce}$)**  \n",
    "   - Processes grouped data from the **shuffle phase**.\n",
    "   - Outputs the final result $(k_2, v_2)$.\n",
    "\n",
    "##### **Mathematical Representation**\n",
    "\n",
    "- **Map Function:**  \n",
    "\\[\n",
    "map(k_1, v_1) \\rightarrow [(k_2, v_2)]\n",
    "\\]\n",
    "\n",
    "- **Reduce Function:**  \n",
    "\\[\n",
    "reduce(k_2, [v_2]) \\rightarrow (k_3, v_3)\n",
    "\\]\n",
    "\n",
    "✅ **Key Advantages of MapReduce**\n",
    "- **Scalability:** Handles large datasets across distributed systems.\n",
    "- **Fault Tolerance:** Recovers from node failures.\n",
    "- **Parallelization:** Efficient use of multi-node architecture.\n",
    "- **Abstraction:** Focus on *what* to compute, not *how* to parallelize."
   ]
  },
  {
   "cell_type": "code",
   "execution_count": 75,
   "metadata": {},
   "outputs": [
    {
     "name": "stdout",
     "output_type": "stream",
     "text": [
      "Mapped Data (First 5 Rows):\n",
      "[('setosa', 1), ('setosa', 1), ('setosa', 1), ('setosa', 1), ('setosa', 1)]\n"
     ]
    }
   ],
   "source": [
    "iris_df = pd.DataFrame(data=iris.data, columns=iris.feature_names)\n",
    "iris_df['species'] = iris.target\n",
    "\n",
    "iris_df['species'] = iris_df['species'].apply(lambda x: iris.target_names[x])\n",
    "\n",
    "# Map Phase\n",
    "def mapper(df):\n",
    "    mapped_data = []\n",
    "    for _, row in df.iterrows():\n",
    "        mapped_data.append((row['species'], 1))\n",
    "    return mapped_data\n",
    "\n",
    "mapped_data = mapper(iris_df)\n",
    "print(\"Mapped Data (First 5 Rows):\")\n",
    "print(mapped_data[:5])\n"
   ]
  },
  {
   "cell_type": "code",
   "execution_count": 77,
   "metadata": {},
   "outputs": [
    {
     "name": "stdout",
     "output_type": "stream",
     "text": [
      "Grouped Data:\n",
      "defaultdict(<class 'list'>, {'setosa': [1, 1, 1, 1, 1, 1, 1, 1, 1, 1, 1, 1, 1, 1, 1, 1, 1, 1, 1, 1, 1, 1, 1, 1, 1, 1, 1, 1, 1, 1, 1, 1, 1, 1, 1, 1, 1, 1, 1, 1, 1, 1, 1, 1, 1, 1, 1, 1, 1, 1], 'versicolor': [1, 1, 1, 1, 1, 1, 1, 1, 1, 1, 1, 1, 1, 1, 1, 1, 1, 1, 1, 1, 1, 1, 1, 1, 1, 1, 1, 1, 1, 1, 1, 1, 1, 1, 1, 1, 1, 1, 1, 1, 1, 1, 1, 1, 1, 1, 1, 1, 1, 1], 'virginica': [1, 1, 1, 1, 1, 1, 1, 1, 1, 1, 1, 1, 1, 1, 1, 1, 1, 1, 1, 1, 1, 1, 1, 1, 1, 1, 1, 1, 1, 1, 1, 1, 1, 1, 1, 1, 1, 1, 1, 1, 1, 1, 1, 1, 1, 1, 1, 1, 1, 1]})\n"
     ]
    }
   ],
   "source": [
    "from collections import defaultdict\n",
    "\n",
    "# Shuffle and Sort Phase\n",
    "def shuffle_and_sort(mapped_data):\n",
    "    grouped_data = defaultdict(list)\n",
    "    for key, value in mapped_data:\n",
    "        grouped_data[key].append(value)\n",
    "    return grouped_data\n",
    "\n",
    "grouped_data = shuffle_and_sort(mapped_data)\n",
    "print(\"Grouped Data:\")\n",
    "print(grouped_data)\n"
   ]
  },
  {
   "cell_type": "code",
   "execution_count": 79,
   "metadata": {},
   "outputs": [
    {
     "name": "stdout",
     "output_type": "stream",
     "text": [
      "Reduced Data (Species Count):\n",
      "{'setosa': 50, 'versicolor': 50, 'virginica': 50}\n"
     ]
    }
   ],
   "source": [
    "# Reduce Phase\n",
    "def reducer(grouped_data):\n",
    "    reduced_data = {}\n",
    "    for key, values in grouped_data.items():\n",
    "        reduced_data[key] = sum(values)\n",
    "    return reduced_data\n",
    "\n",
    "reduced_data = reducer(grouped_data)\n",
    "print(\"Reduced Data (Species Count):\")\n",
    "print(reduced_data)\n"
   ]
  },
  {
   "cell_type": "code",
   "execution_count": 82,
   "metadata": {},
   "outputs": [
    {
     "name": "stdout",
     "output_type": "stream",
     "text": [
      "Final Species Count (MapReduce Result):\n",
      "setosa: 50\n",
      "versicolor: 50\n",
      "virginica: 50\n"
     ]
    }
   ],
   "source": [
    "# All in one function\n",
    "def mapreduce_species_count(df):\n",
    "    mapped = mapper(df)\n",
    "    grouped = shuffle_and_sort(mapped)\n",
    "    reduced = reducer(grouped)\n",
    "    return reduced\n",
    "\n",
    "species_count = mapreduce_species_count(iris_df)\n",
    "print(\"Final Species Count (MapReduce Result):\")\n",
    "for species, count in species_count.items():\n",
    "    print(f\"{species}: {count}\")\n"
   ]
  }
 ],
 "metadata": {
  "kernelspec": {
   "display_name": "BasicPy",
   "language": "python",
   "name": "python3"
  },
  "language_info": {
   "codemirror_mode": {
    "name": "ipython",
    "version": 3
   },
   "file_extension": ".py",
   "mimetype": "text/x-python",
   "name": "python",
   "nbconvert_exporter": "python",
   "pygments_lexer": "ipython3",
   "version": "3.12.2"
  }
 },
 "nbformat": 4,
 "nbformat_minor": 2
}
